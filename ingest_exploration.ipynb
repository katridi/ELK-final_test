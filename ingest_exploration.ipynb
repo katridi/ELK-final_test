{
 "cells": [
  {
   "cell_type": "code",
   "execution_count": 1,
   "id": "9ae0962b",
   "metadata": {},
   "outputs": [],
   "source": [
    "import pandas as pd\n",
    "import os\n",
    "import re"
   ]
  },
  {
   "cell_type": "code",
   "execution_count": 2,
   "id": "a62ef381",
   "metadata": {},
   "outputs": [],
   "source": [
    "ratings_path = os.path.join(os.getcwd(),'data/ratings.csv')\n",
    "genome_path = os.path.join(os.getcwd(),'data/genome-scores.csv')\n",
    "genome_tags_path = os.path.join(os.getcwd(),'data/genome-tags.csv')\n",
    "links_path = os.path.join(os.getcwd(),'data/links.csv')\n",
    "movies_path = os.path.join(os.getcwd(),'data/movies.csv')\n",
    "user_tags = os.path.join(os.getcwd(),'data/tags.csv')"
   ]
  },
  {
   "cell_type": "code",
   "execution_count": 3,
   "id": "ba6330e8",
   "metadata": {},
   "outputs": [],
   "source": [
    "def extract_year(string):\n",
    "    pattern = r'[(]\\d{4}[)]'\n",
    "    matches = re.findall(pattern, string)\n",
    "    if matches:\n",
    "        return matches[0].replace('(', '').replace(')', '')\n",
    "    return \n",
    "\n",
    "def replace_year(string):\n",
    "    pattern = r'[(]\\d{4}[)]'\n",
    "    return re.sub(pattern, '', string, 1).strip()"
   ]
  },
  {
   "cell_type": "code",
   "execution_count": 4,
   "id": "6905c326",
   "metadata": {},
   "outputs": [],
   "source": [
    "ratings = pd.read_csv(\n",
    "    ratings_path, sep=',', usecols=['userId', 'movieId', 'rating'],\n",
    "    dtype={'userId': 'Int64', 'movieId': 'Int64', 'rating': 'float64'}\n",
    ")"
   ]
  },
  {
   "cell_type": "code",
   "execution_count": 5,
   "id": "268a19f6",
   "metadata": {},
   "outputs": [],
   "source": [
    "movies = pd.read_csv(movies_path, sep=',')\n",
    "movies['genres'] = movies['genres'].apply(lambda x: x.split('|'))\n",
    "movies['year'] = movies['title'].apply(lambda x: extract_year(x)).fillna(0).astype(int)\n",
    "movies['title'] = movies['title'].apply(lambda x: replace_year(x))"
   ]
  },
  {
   "cell_type": "code",
   "execution_count": 7,
   "id": "3c2a27e1",
   "metadata": {},
   "outputs": [],
   "source": [
    "ratings_with_names = ratings.merge(movies, how='left', on='movieId')"
   ]
  },
  {
   "cell_type": "code",
   "execution_count": 8,
   "id": "1aaf0742",
   "metadata": {},
   "outputs": [
    {
     "data": {
      "text/html": [
       "<div>\n",
       "<style scoped>\n",
       "    .dataframe tbody tr th:only-of-type {\n",
       "        vertical-align: middle;\n",
       "    }\n",
       "\n",
       "    .dataframe tbody tr th {\n",
       "        vertical-align: top;\n",
       "    }\n",
       "\n",
       "    .dataframe thead th {\n",
       "        text-align: right;\n",
       "    }\n",
       "</style>\n",
       "<table border=\"1\" class=\"dataframe\">\n",
       "  <thead>\n",
       "    <tr style=\"text-align: right;\">\n",
       "      <th></th>\n",
       "      <th>userId</th>\n",
       "      <th>movieId</th>\n",
       "      <th>rating</th>\n",
       "      <th>title</th>\n",
       "      <th>genres</th>\n",
       "      <th>year</th>\n",
       "    </tr>\n",
       "  </thead>\n",
       "  <tbody>\n",
       "    <tr>\n",
       "      <th>0</th>\n",
       "      <td>1</td>\n",
       "      <td>296</td>\n",
       "      <td>5.0</td>\n",
       "      <td>Pulp Fiction</td>\n",
       "      <td>[Comedy, Crime, Drama, Thriller]</td>\n",
       "      <td>1994</td>\n",
       "    </tr>\n",
       "    <tr>\n",
       "      <th>1</th>\n",
       "      <td>1</td>\n",
       "      <td>306</td>\n",
       "      <td>3.5</td>\n",
       "      <td>Three Colors: Red (Trois couleurs: Rouge)</td>\n",
       "      <td>[Drama]</td>\n",
       "      <td>1994</td>\n",
       "    </tr>\n",
       "    <tr>\n",
       "      <th>2</th>\n",
       "      <td>1</td>\n",
       "      <td>307</td>\n",
       "      <td>5.0</td>\n",
       "      <td>Three Colors: Blue (Trois couleurs: Bleu)</td>\n",
       "      <td>[Drama]</td>\n",
       "      <td>1993</td>\n",
       "    </tr>\n",
       "    <tr>\n",
       "      <th>3</th>\n",
       "      <td>1</td>\n",
       "      <td>665</td>\n",
       "      <td>5.0</td>\n",
       "      <td>Underground</td>\n",
       "      <td>[Comedy, Drama, War]</td>\n",
       "      <td>1995</td>\n",
       "    </tr>\n",
       "    <tr>\n",
       "      <th>4</th>\n",
       "      <td>1</td>\n",
       "      <td>899</td>\n",
       "      <td>3.5</td>\n",
       "      <td>Singin' in the Rain</td>\n",
       "      <td>[Comedy, Musical, Romance]</td>\n",
       "      <td>1952</td>\n",
       "    </tr>\n",
       "  </tbody>\n",
       "</table>\n",
       "</div>"
      ],
      "text/plain": [
       "   userId  movieId  rating                                      title  \\\n",
       "0       1      296     5.0                               Pulp Fiction   \n",
       "1       1      306     3.5  Three Colors: Red (Trois couleurs: Rouge)   \n",
       "2       1      307     5.0  Three Colors: Blue (Trois couleurs: Bleu)   \n",
       "3       1      665     5.0                                Underground   \n",
       "4       1      899     3.5                        Singin' in the Rain   \n",
       "\n",
       "                             genres  year  \n",
       "0  [Comedy, Crime, Drama, Thriller]  1994  \n",
       "1                           [Drama]  1994  \n",
       "2                           [Drama]  1993  \n",
       "3              [Comedy, Drama, War]  1995  \n",
       "4        [Comedy, Musical, Romance]  1952  "
      ]
     },
     "execution_count": 8,
     "metadata": {},
     "output_type": "execute_result"
    }
   ],
   "source": [
    "ratings_with_names.head()"
   ]
  },
  {
   "cell_type": "code",
   "execution_count": 13,
   "id": "3cb54e1d",
   "metadata": {},
   "outputs": [
    {
     "name": "stderr",
     "output_type": "stream",
     "text": [
      "/Users/Aleksei_Katridi/Library/Python/3.8/lib/python/site-packages/elasticsearch/connection/http_urllib3.py:209: UserWarning: Connecting to https://localhost:9200 using SSL with verify_certs=False is insecure.\n",
      "  warnings.warn(\n"
     ]
    }
   ],
   "source": [
    "from elasticsearch import Elasticsearch\n",
    "\n",
    "es = Elasticsearch(\n",
    "    hosts=[\"https://localhost:9200\"],\n",
    "    http_auth=(\"admin\", \"admin\"),\n",
    "    verify_certs=False\n",
    ")"
   ]
  },
  {
   "cell_type": "code",
   "execution_count": 11,
   "id": "1b636507",
   "metadata": {},
   "outputs": [],
   "source": [
    "def movie_iterator(index_string_name, table):\n",
    "    my_iterator = iter(table.to_dict('records'))\n",
    "    counter = 0\n",
    "    while my_iterator:\n",
    "        try:\n",
    "            value = next(my_iterator)\n",
    "            yield {\"_index\": index_string_name, \"_id\": counter, **value}\n",
    "            counter += 1\n",
    "        except StopIteration:\n",
    "            break"
   ]
  },
  {
   "cell_type": "code",
   "execution_count": 15,
   "id": "50e2dea2",
   "metadata": {},
   "outputs": [
    {
     "name": "stdout",
     "output_type": "stream",
     "text": [
      "21.9 s ± 0 ns per loop (mean ± std. dev. of 1 run, 1 loop each)\n"
     ]
    }
   ],
   "source": [
    "%%timeit -r 1\n",
    "\n",
    "from elasticsearch.helpers import parallel_bulk\n",
    "from elasticsearch.helpers import streaming_bulk\n",
    "import urllib3\n",
    "urllib3.disable_warnings()\n",
    "\n",
    "data = ratings_with_names[:200000]\n",
    "index_name = 'user_ratings'\n",
    "\n",
    "\n",
    "for success, info in parallel_bulk(\n",
    "    es, movie_iterator(index_name, data), thread_count=8, chunk_size=500):\n",
    "    if not success:\n",
    "        print('A document failed:', info)"
   ]
  },
  {
   "cell_type": "code",
   "execution_count": 16,
   "id": "09689721",
   "metadata": {},
   "outputs": [],
   "source": [
    "# 21.9 s ± 0 ns per loop (mean ± std. dev. of 1 run, 1 loop each)"
   ]
  },
  {
   "cell_type": "code",
   "execution_count": null,
   "id": "9edc8082",
   "metadata": {},
   "outputs": [],
   "source": []
  }
 ],
 "metadata": {
  "kernelspec": {
   "display_name": "Python 3 (ipykernel)",
   "language": "python",
   "name": "python3"
  },
  "language_info": {
   "codemirror_mode": {
    "name": "ipython",
    "version": 3
   },
   "file_extension": ".py",
   "mimetype": "text/x-python",
   "name": "python",
   "nbconvert_exporter": "python",
   "pygments_lexer": "ipython3",
   "version": "3.8.9"
  }
 },
 "nbformat": 4,
 "nbformat_minor": 5
}
